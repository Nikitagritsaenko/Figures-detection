{
 "cells": [
  {
   "cell_type": "markdown",
   "metadata": {},
   "source": [
    "# Algorithms in graphics\n",
    "## Lab 3"
   ]
  },
  {
   "cell_type": "code",
   "execution_count": 24,
   "metadata": {},
   "outputs": [
    {
     "name": "stdout",
     "output_type": "stream",
     "text": [
      "[[0, 0, 0, 1, 1, 1, 1, 0], [0, 0, 0, 1, 1, 1]]\n"
     ]
    },
    {
     "data": {
      "image/png": "[encoded data removed]",
      "text/plain": [
       "<Figure size 1080x1080 with 2 Axes>"
      ]
     },
     "metadata": {
      "needs_background": "light"
     },
     "output_type": "display_data"
    }
   ],
   "source": [
    "import matplotlib.pyplot as plt\n",
    "import numpy as np\n",
    "import os\n",
    "import cv2\n",
    "\n",
    "directory = \"LabCV/\"\n",
    "f_in_lines = open(os.path.join(directory, \"001_line_in.txt\"), \"r\")\n",
    "image_src = plt.imread(os.path.join(directory, \"001_line_src.png\"))\n",
    "image_gt = plt.imread(os.path.join(directory, \"001_line_gt.png\"))\n",
    "\n",
    "f, ax = plt.subplots(1, 2, figsize=(15,15))\n",
    "ax[0].set_title(\"src\")\n",
    "ax[1].set_title(\"gt\")\n",
    "ax[0].imshow(image_src, cmap='gray')\n",
    "ax[1].imshow(image_gt, cmap='gray')\n",
    "\n",
    "N = int(f_in_lines.readline())\n",
    "basis_figures = []\n",
    "for i in range(N):\n",
    "    new_figure = [int(number) for number in f_in_lines.readline().split(',')]\n",
    "    basis_figures.append(new_figure)\n",
    "    \n",
    "print(basis_figures)"
   ]
  },
  {
   "cell_type": "code",
   "execution_count": 25,
   "metadata": {},
   "outputs": [],
   "source": [
    "def find_figures(N, basis_figures, src_image):\n",
    "    \"\"\" \n",
    "    Finds basis_figures at src_image.\n",
    "    \n",
    "    Parameters\n",
    "    ----------\n",
    "    N : number of basis figures\n",
    "    basis_figures: basis in format (p1.x, p1.y, p2.x, p2.y, ..., pk.x, pk.y)\n",
    "    src_image: source image\n",
    "    \n",
    "    Returns\n",
    "    ----------\n",
    "    list found_figures of M items. Each item is a tuple (basis figure id, shift X, shift Y, scale, rotation_angle)\n",
    "\n",
    "    \"\"\"\n",
    "    \n",
    "    ## TODO some SOLVER instead of reading correct answer\n",
    "    found_figures = []\n",
    "    \n",
    "    # reading correct answer\n",
    "    f_out_lines = open(os.path.join(directory, \"001_line_out.txt\"), \"r\")\n",
    "    M = int(f_out_lines.readline())\n",
    "\n",
    "    for i in range(M):\n",
    "        new_figure = [int(number) for number in f_out_lines.readline().split(', ')]\n",
    "        found_figures.append(new_figure)\n",
    "    \n",
    "    return M, found_figures"
   ]
  },
  {
   "cell_type": "code",
   "execution_count": 26,
   "metadata": {},
   "outputs": [
    {
     "name": "stdout",
     "output_type": "stream",
     "text": [
      "2\n",
      "[[0, 80, -45, 100, 100], [1, 50, -60, 30, 50]]\n"
     ]
    }
   ],
   "source": [
    "M, found_figures = find_figures(N, basis_figures, image_src)\n",
    "print(M)\n",
    "print(found_figures)"
   ]
  },
  {
   "cell_type": "code",
   "execution_count": 27,
   "metadata": {},
   "outputs": [],
   "source": [
    "class Transformation:\n",
    "    def __init__(self, scale, angle, dx, dy):\n",
    "        self.scale = scale\n",
    "        self.angle = angle\n",
    "        self.dx = dx\n",
    "        self.dy = dy\n",
    "        \n",
    "def draw(inpt, gt, shape, transform, color=255):\n",
    "    assert (inpt.shape == gt.shape)\n",
    "\n",
    "    new_shape = shape.copy().astype(np.float)\n",
    "    \n",
    "    print(transform.scale, transform.angle)\n",
    "    # Scale\n",
    "    new_shape *= transform.scale\n",
    "\n",
    "    # Rotation\n",
    "    tmp = new_shape.copy()\n",
    "    \n",
    "    for i in [0, 1]:\n",
    "        new_shape[:, i] = np.cos(transform.angle) * tmp[:, i] \\\n",
    "                         - ((-1)** i) * np.sin(transform.angle) * tmp[:, 1 - i]\n",
    "\n",
    "    #Shift\n",
    "    new_shape[:, 0] += transform.dx\n",
    "    new_shape[:, 1] += transform.dy\n",
    "\n",
    "    cv2.fillPoly(gt, [new_shape.astype(np.int32)], color)\n",
    "    cv2.polylines(inpt, [new_shape.astype(np.int32)], True, color)\n",
    "    \n",
    "def plot_results(found_figures, basis_figures, image_src, image_gt):\n",
    "    original_src = image_src.copy() \n",
    "    original_gt = image_gt.copy() \n",
    "\n",
    "    for figure in found_figures:\n",
    "        basis_figure_id = figure[0]\n",
    "        scale = figure[1]\n",
    "        rotation_angle = figure[2] / 180 * np.pi\n",
    "\n",
    "        shift_X = figure[3]\n",
    "        shift_Y = figure[4]\n",
    "        \n",
    "        basis_figure = basis_figures[basis_figure_id]\n",
    "        basis_points = []\n",
    "        N = len(basis_figure)\n",
    "        for i in range(0, N, 2):\n",
    "            basis_points.append((basis_figure[i], basis_figure[i+1]))\n",
    "            \n",
    "        transform = Transformation(scale, rotation_angle, shift_X, shift_Y)\n",
    "        \n",
    "        draw(image_src, \n",
    "             image_gt,\n",
    "             np.array(basis_points, dtype=np.int32), \n",
    "             transform)\n",
    "        \n",
    "    f, ax = plt.subplots(1, 4, figsize=(15,15))\n",
    "    ax[0].set_title(\"src result\")\n",
    "    ax[1].set_title(\"gt result\")\n",
    "    ax[2].set_title(\"src original\")\n",
    "    ax[3].set_title(\"gt original\")\n",
    "    ax[0].imshow(image_src, cmap='gray')\n",
    "    ax[1].imshow(image_gt, cmap='gray')\n",
    "    ax[2].imshow(original_src, cmap='gray')\n",
    "    ax[3].imshow(original_gt, cmap='gray')\n"
   ]
  },
  {
   "cell_type": "code",
   "execution_count": 28,
   "metadata": {},
   "outputs": [
    {
     "name": "stdout",
     "output_type": "stream",
     "text": [
      "80 -0.7853981633974483\n",
      "50 -1.0471975511965976\n"
     ]
    },
    {
     "data": {
      "image/png": "[encoded data removed]",
      "text/plain": [
       "<Figure size 1080x1080 with 4 Axes>"
      ]
     },
     "metadata": {
      "needs_background": "light"
     },
     "output_type": "display_data"
    }
   ],
   "source": [
    "plot_results(found_figures, basis_figures, image_src, image_gt)\n",
    "plt.show()"
   ]
  },
  {
   "cell_type": "code",
   "execution_count": null,
   "metadata": {},
   "outputs": [],
   "source": []
  }
 ],
 "metadata": {
  "kernelspec": {
   "display_name": "Python 3",
   "language": "python",
   "name": "python3"
  },
  "language_info": {
   "codemirror_mode": {
    "name": "ipython",
    "version": 3
   },
   "file_extension": ".py",
   "mimetype": "text/x-python",
   "name": "python",
   "nbconvert_exporter": "python",
   "pygments_lexer": "ipython3",
   "version": "3.7.4"
  }
 },
 "nbformat": 4,
 "nbformat_minor": 4
}
